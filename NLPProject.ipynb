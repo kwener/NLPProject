{
 "cells": [
  {
   "cell_type": "code",
   "execution_count": 2,
   "metadata": {},
   "outputs": [],
   "source": [
    "from pprint import pprint\n",
    "from operator import itemgetter\n",
    "import nltk\n",
    "from nltk.corpus import framenet as fn\n",
    "from nltk.corpus.reader.framenet import PrettyList"
   ]
  },
  {
   "cell_type": "markdown",
   "metadata": {},
   "source": [
    "Overview Notes\n",
    "\n",
    "-FE is a frame element, the the frame evpking words are the lexical units (LU)\n",
    "    -the concept of cooking involves the cook, the food that is being cooked, something holding the food while cooking, and the source of heat\n",
    "    -this is represented by a frame called Apply_Heat and the Cook, Food, Heating_Instrument, and COntainer are the FEs; the words that evoke the frame (like fry, bake, boil, broil, etc) are the LUs\n",
    "\n",
    "-inheritance: An IS-A relationship, the child frame is a subtype of the parent frame, each FE in the parent is bound to a corresponding FE in the child\n",
    "    -ex; the \"Revenge\" frame which inherits from the \"Rewards_and_punishments\" frame\n",
    "-using: The child frame presupposes the parent frame as background\n",
    "    -eg: the \"speed\" frame \"uses\" the \"Motion\" frame, but not all parent FEs need to be bound to child FEs\n",
    "-subframe: The child is a sibvent of a complex event represented by the parent\n",
    "    -eg: the \"Criminal_process\" frame has subframes \"arrest\", \"arraignment\", \"trial\" and \"sentencing\"\n",
    "-Perspective on: the child frame provices a particular perspective on an un-perspectivized parent frame; a pair of examples consists of \"Hiring\" and \"Get_a_job\" frames, which perspectivize the \"Employment_start\" frame from the Employers and Employees point of view"
   ]
  },
  {
   "cell_type": "markdown",
   "metadata": {},
   "source": [
    "-use frames() to get list of all frames; can get particular frame and info by using frame(); can provide a regular expressions to frames() to get list of all frames whoe names match the patern \n",
    "-can search Frames by their Lexical Units using frames_by_lemma(), which returns list of all frames that contain LUs in which the 'name' attrib of the LU matches the given regular expressiuon"
   ]
  },
  {
   "cell_type": "code",
   "execution_count": 3,
   "metadata": {},
   "outputs": [
    {
     "name": "stdout",
     "output_type": "stream",
     "text": [
      "202\n",
      "Arrest\n",
      "Authorities charge a Suspect, who is under suspicion of having committed a crime (the Charges), and take him/her into custody.'The police arrested Harry on charges of manslaughter.'\n",
      "[<Parent=Intentionally_affect -- Inheritance -> Child=Arrest>, <Complex=Criminal_process -- Subframe -> Component=Arrest>, ...]\n"
     ]
    }
   ],
   "source": [
    "f = fn.frame(202)\n",
    "print(f.ID)\n",
    "print(f.name)\n",
    "print(f.definition)\n",
    "print(f.frameRelations)"
   ]
  },
  {
   "cell_type": "markdown",
   "metadata": {},
   "source": [
    "Lexical Unit overview\n",
    "- A lexical unit is a pairing of a word with a meaning\n",
    "-the \"Apply_Heat\" frame describes a common situation involving a cook, some food, and a heating instrument and is_envoked_ by words such as bake, blanch, broil, brown, simmer, steak, etc\n",
    "-The frame evoking words are the LUs in the Apply_head frame :\n",
    "    -can be adjs, nouns, or verbs \n",
    "    - reduction evokes \"Cause_change_of_scalar_position\" in ..\"the reduction of debt levels to 665 million from 2.6 billion\"\n",
    "-Framenet provides mult annotated examples of each sense of a word (i.e each LU)\n",
    "-each LU is linked to a frame, and the other words that evoke that frame\n",
    "    -framenet groups similar words together sematnically, like a thesaurous "
   ]
  },
  {
   "cell_type": "code",
   "execution_count": null,
   "metadata": {},
   "outputs": [
    {
     "data": {
      "text/plain": [
       "[<lu ID=14733 name=a little.n>, <lu ID=14743 name=a little.adv>, ...]"
      ]
     },
     "execution_count": 4,
     "metadata": {},
     "output_type": "execute_result"
    }
   ],
   "source": [
    "#this is how you get details for a specific lexical unit \n",
    "PrettyList(sorted(fn.lus(r'(?i)a little'), key=itemgetter('ID')))"
   ]
  },
  {
   "cell_type": "markdown",
   "metadata": {},
   "source": [
    "-the LU named takes the form of the dotten string in which the lemme preceeds the\".\" and a part of speech follows the \".\""
   ]
  },
  {
   "cell_type": "code",
   "execution_count": 7,
   "metadata": {},
   "outputs": [
    {
     "name": "stdout",
     "output_type": "stream",
     "text": [
      "foresee.v\n",
      "COD: be aware of beforehand; predict.\n",
      "Expectation\n",
      "foresee\n"
     ]
    }
   ],
   "source": [
    "print(fn.lu(256).name)\n",
    "print(fn.lu(256).definition)\n",
    "print(fn.lu(256).frame.name)\n",
    "print(fn.lu(256).lexemes[0].name)"
   ]
  },
  {
   "cell_type": "code",
   "execution_count": null,
   "metadata": {},
   "outputs": [],
   "source": []
  },
  {
   "cell_type": "markdown",
   "metadata": {},
   "source": [
    "get an annotated document with the docs() function"
   ]
  },
  {
   "cell_type": "code",
   "execution_count": 8,
   "metadata": {},
   "outputs": [
    {
     "name": "stdout",
     "output_type": "stream",
     "text": [
      "PropBank\n",
      "full-text sentence (2824246) in BellRinging:\n",
      "\n",
      "\n",
      "[POS] 17 tags\n",
      "\n",
      "[POS_tagset] PENN\n",
      "\n",
      "[text] + [annotationSet]\n",
      "\n",
      "`` I live in hopes that the ringers themselves will be drawn into\n",
      "             *****          *******                    *****     \n",
      "             Desir          Cause_t                    Cause     \n",
      "             [1]            [3]                        [2]       \n",
      "\n",
      " that fuller life .\n",
      "      ******\n",
      "      Comple\n",
      "      [4]   \n",
      " (Desir=Desiring, Cause_t=Cause_to_make_noise, Cause=Cause_motion, Comple=Completeness)\n",
      "\n"
     ]
    }
   ],
   "source": [
    "d = fn.docs('BellRinging')[0]\n",
    "print(d.corpname)\n",
    "print(d.sentence[49])"
   ]
  },
  {
   "cell_type": "markdown",
   "metadata": {},
   "source": [
    "Below, you get information about the first annotation in the specificed sentence above. We see that the word hope evokes the frame desiring"
   ]
  },
  {
   "cell_type": "code",
   "execution_count": 12,
   "metadata": {},
   "outputs": [
    {
     "data": {
      "text/plain": [
       "annotation set (4528852):\n",
       "\n",
       "[status] MANUAL\n",
       "\n",
       "[LU] (6605) hope.n in Desiring\n",
       "\n",
       "[frame] (366) Desiring\n",
       "\n",
       "[GF] 2 relations\n",
       "\n",
       "[PT] 2 phrases\n",
       "\n",
       "[text] + [Target] + [FE] + [Noun]\n",
       "\n",
       "`` I live in hopes that the ringers themselves will be drawn into\n",
       "   - ^^^^ ^^ ***** ----------------------------------------------\n",
       "   E supp su       Event                                         \n",
       " \n",
       " that fuller life .\n",
       "-----------------\n",
       "                 \n",
       " (E=Experiencer, su=supp)\n"
      ]
     },
     "execution_count": 12,
     "metadata": {},
     "output_type": "execute_result"
    }
   ],
   "source": [
    "d.sentence[49].annotationSet[1]"
   ]
  },
  {
   "cell_type": "markdown",
   "metadata": {},
   "source": [
    "find the training data :\n",
    "-this is a whole set of the training data, can index it to look at specific frames "
   ]
  },
  {
   "cell_type": "code",
   "execution_count": 11,
   "metadata": {},
   "outputs": [
    {
     "name": "stdout",
     "output_type": "stream",
     "text": [
      "Number of frames: 1221\n"
     ]
    }
   ],
   "source": [
    "frames = fn.frames()\n",
    "print(f\"Number of frames: {len(frames)}\")"
   ]
  }
 ],
 "metadata": {
  "kernelspec": {
   "display_name": ".venv",
   "language": "python",
   "name": "python3"
  },
  "language_info": {
   "codemirror_mode": {
    "name": "ipython",
    "version": 3
   },
   "file_extension": ".py",
   "mimetype": "text/x-python",
   "name": "python",
   "nbconvert_exporter": "python",
   "pygments_lexer": "ipython3",
   "version": "3.13.2"
  }
 },
 "nbformat": 4,
 "nbformat_minor": 2
}
