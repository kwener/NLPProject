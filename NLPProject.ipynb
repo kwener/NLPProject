{
 "cells": [
  {
   "cell_type": "code",
   "execution_count": 2,
   "metadata": {},
   "outputs": [],
   "source": [
    "from pprint import pprint\n",
    "from operator import itemgetter\n",
    "import nltk\n",
    "from nltk.corpus import framenet as fn\n",
    "from nltk.corpus.reader.framenet import PrettyList"
   ]
  },
  {
   "cell_type": "code",
   "execution_count": 3,
   "metadata": {},
   "outputs": [
    {
     "name": "stdout",
     "output_type": "stream",
     "text": [
      "202\n",
      "Arrest\n",
      "Authorities charge a Suspect, who is under suspicion of having committed a crime (the Charges), and take him/her into custody.'The police arrested Harry on charges of manslaughter.'\n",
      "[<Parent=Intentionally_affect -- Inheritance -> Child=Arrest>, <Complex=Criminal_process -- Subframe -> Component=Arrest>, ...]\n"
     ]
    }
   ],
   "source": [
    "f = fn.frame(202)\n",
    "print(f.ID)\n",
    "print(f.name)\n",
    "print(f.definition)\n",
    "print(f.frameRelations)"
   ]
  },
  {
   "cell_type": "markdown",
   "metadata": {},
   "source": [
    "- A lexical unit is a pairing of a word with a meaning\n",
    "-the \"Apply_Heat\" frame describes a common situation involving a cook, some food, and a heating instrument and is_envoked_ by words such as bake, blanch, broil, brown, simmer, steak, etc\n",
    "-The frame evoking words are the LUs in the Apply_head frame :\n",
    "    -can be adjetived, nouns, or verbs \n",
    "    - reduction evokes \"Cause_change_of_scalar_position\" in ..\"the reduction of debt levels to 665 million from 2.6 billion\"\n",
    "-Framenet provides mult annotated examples of each sense of a word (i.e each LU)\n",
    "-"
   ]
  },
  {
   "cell_type": "code",
   "execution_count": null,
   "metadata": {},
   "outputs": [
    {
     "data": {
      "text/plain": [
       "[<lu ID=14733 name=a little.n>, <lu ID=14743 name=a little.adv>, ...]"
      ]
     },
     "execution_count": 4,
     "metadata": {},
     "output_type": "execute_result"
    }
   ],
   "source": [
    "#this is how you get details for a specific lexical unit \n",
    "PrettyList(sorted(fn.lus(r'(?i)a little'), key=itemgetter('ID')))"
   ]
  },
  {
   "cell_type": "markdown",
   "metadata": {},
   "source": [
    "-the LU named takes the form of the dotten string in which the lemme preceeds the\".\" and a part of speech follows the \".\""
   ]
  },
  {
   "cell_type": "code",
   "execution_count": 7,
   "metadata": {},
   "outputs": [
    {
     "name": "stdout",
     "output_type": "stream",
     "text": [
      "foresee.v\n",
      "COD: be aware of beforehand; predict.\n",
      "Expectation\n",
      "foresee\n"
     ]
    }
   ],
   "source": [
    "print(fn.lu(256).name)\n",
    "print(fn.lu(256).definition)\n",
    "print(fn.lu(256).frame.name)\n",
    "print(fn.lu(256).lexemes[0].name)"
   ]
  },
  {
   "cell_type": "code",
   "execution_count": 8,
   "metadata": {},
   "outputs": [
    {
     "name": "stdout",
     "output_type": "stream",
     "text": [
      "PropBank\n",
      "full-text sentence (2824246) in BellRinging:\n",
      "\n",
      "\n",
      "[POS] 17 tags\n",
      "\n",
      "[POS_tagset] PENN\n",
      "\n",
      "[text] + [annotationSet]\n",
      "\n",
      "`` I live in hopes that the ringers themselves will be drawn into\n",
      "             *****          *******                    *****     \n",
      "             Desir          Cause_t                    Cause     \n",
      "             [1]            [3]                        [2]       \n",
      "\n",
      " that fuller life .\n",
      "      ******\n",
      "      Comple\n",
      "      [4]   \n",
      " (Desir=Desiring, Cause_t=Cause_to_make_noise, Cause=Cause_motion, Comple=Completeness)\n",
      "\n"
     ]
    }
   ],
   "source": [
    "d = fn.docs('BellRinging')[0]\n",
    "print(d.corpname)\n",
    "print(d.sentence[49])"
   ]
  },
  {
   "cell_type": "markdown",
   "metadata": {},
   "source": [
    "find the training data :\n",
    "-this is a whole set of the training data, can index it to look at specific frames "
   ]
  },
  {
   "cell_type": "code",
   "execution_count": 11,
   "metadata": {},
   "outputs": [
    {
     "name": "stdout",
     "output_type": "stream",
     "text": [
      "Number of frames: 1221\n"
     ]
    }
   ],
   "source": [
    "frames = fn.frames()\n",
    "print(f\"Number of frames: {len(frames)}\")"
   ]
  }
 ],
 "metadata": {
  "kernelspec": {
   "display_name": ".venv",
   "language": "python",
   "name": "python3"
  },
  "language_info": {
   "codemirror_mode": {
    "name": "ipython",
    "version": 3
   },
   "file_extension": ".py",
   "mimetype": "text/x-python",
   "name": "python",
   "nbconvert_exporter": "python",
   "pygments_lexer": "ipython3",
   "version": "3.13.2"
  }
 },
 "nbformat": 4,
 "nbformat_minor": 2
}
